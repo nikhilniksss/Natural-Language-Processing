{
 "cells": [
  {
   "cell_type": "markdown",
   "metadata": {},
   "source": [
    "### ***Levenshtein distance***"
   ]
  },
  {
   "cell_type": "code",
   "execution_count": 1,
   "metadata": {},
   "outputs": [],
   "source": [
    "# importing library\n",
    "\n",
    "import numpy as np"
   ]
  },
  {
   "cell_type": "code",
   "execution_count": 4,
   "metadata": {},
   "outputs": [],
   "source": [
    "# two diffenrent words\n",
    "\n",
    "seq1 = \"scientist\"\n",
    "seq2 = \"science\""
   ]
  },
  {
   "cell_type": "code",
   "execution_count": 5,
   "metadata": {},
   "outputs": [
    {
     "data": {
      "text/plain": [
       "array([[0., 0., 0., 0., 0., 0., 0., 0.],\n",
       "       [0., 0., 0., 0., 0., 0., 0., 0.],\n",
       "       [0., 0., 0., 0., 0., 0., 0., 0.],\n",
       "       [0., 0., 0., 0., 0., 0., 0., 0.],\n",
       "       [0., 0., 0., 0., 0., 0., 0., 0.],\n",
       "       [0., 0., 0., 0., 0., 0., 0., 0.],\n",
       "       [0., 0., 0., 0., 0., 0., 0., 0.],\n",
       "       [0., 0., 0., 0., 0., 0., 0., 0.],\n",
       "       [0., 0., 0., 0., 0., 0., 0., 0.],\n",
       "       [0., 0., 0., 0., 0., 0., 0., 0.]])"
      ]
     },
     "execution_count": 5,
     "metadata": {},
     "output_type": "execute_result"
    }
   ],
   "source": [
    "# size of the matrix\n",
    "\n",
    "size_x = len(seq1) + 1\n",
    "size_y = len(seq2) + 1\n",
    "\n",
    "# create a matrix with all zeros\n",
    "\n",
    "matrix = np.zeros((size_x,size_y))\n",
    "\n",
    "# printing the matrix\n",
    "\n",
    "matrix"
   ]
  },
  {
   "cell_type": "code",
   "execution_count": 11,
   "metadata": {},
   "outputs": [
    {
     "data": {
      "text/plain": [
       "array([[0., 1., 2., 3., 4., 5., 6., 7.],\n",
       "       [1., 0., 0., 0., 0., 0., 0., 0.],\n",
       "       [2., 0., 0., 0., 0., 0., 0., 0.],\n",
       "       [3., 0., 0., 0., 0., 0., 0., 0.],\n",
       "       [4., 0., 0., 0., 0., 0., 0., 0.],\n",
       "       [5., 0., 0., 0., 0., 0., 0., 0.],\n",
       "       [6., 0., 0., 0., 0., 0., 0., 0.],\n",
       "       [7., 0., 0., 0., 0., 0., 0., 0.],\n",
       "       [8., 0., 0., 0., 0., 0., 0., 0.],\n",
       "       [9., 0., 0., 0., 0., 0., 0., 0.]])"
      ]
     },
     "execution_count": 11,
     "metadata": {},
     "output_type": "execute_result"
    }
   ],
   "source": [
    "# filling the matrix\n",
    "\n",
    "for x in range(size_x):\n",
    "    matrix[x,0] = x\n",
    "\n",
    "for y in range(size_y):\n",
    "    matrix[0,y] = y\n",
    "\n",
    "matrix"
   ]
  },
  {
   "cell_type": "code",
   "execution_count": 12,
   "metadata": {},
   "outputs": [
    {
     "data": {
      "text/plain": [
       "array([[0., 1., 2., 3., 4., 5., 6., 7.],\n",
       "       [1., 0., 1., 2., 3., 4., 5., 6.],\n",
       "       [2., 1., 0., 1., 2., 3., 4., 5.],\n",
       "       [3., 2., 1., 0., 1., 2., 3., 4.],\n",
       "       [4., 3., 2., 1., 0., 1., 2., 3.],\n",
       "       [5., 4., 3., 2., 1., 0., 1., 2.],\n",
       "       [6., 5., 4., 3., 2., 1., 1., 2.],\n",
       "       [7., 6., 5., 4., 3., 2., 2., 2.],\n",
       "       [8., 7., 6., 5., 4., 3., 3., 3.],\n",
       "       [9., 8., 7., 6., 5., 4., 4., 4.]])"
      ]
     },
     "execution_count": 12,
     "metadata": {},
     "output_type": "execute_result"
    }
   ],
   "source": [
    "# for each column\n",
    "for x in range(1, size_x):\n",
    "    # for each row\n",
    "    for y in range(1, size_y):\n",
    "        # check if the characters are same\n",
    "        if seq1[x-1] == seq2[y-1]:\n",
    "            # fill the element with the minimum of (diagonal value, first corresponding value + 1, second corresponding value + 1) \n",
    "            matrix [x,y] = min(\n",
    "                matrix[x-1, y-1],\n",
    "                matrix[x-1, y] + 1,                    \n",
    "                matrix[x, y-1] + 1\n",
    "            )\n",
    "        # if characters are not same\n",
    "        else:\n",
    "            # fill the element with the minimum of corresponding values + 1\n",
    "            matrix [x,y] = min(\n",
    "                matrix[x-1,y] + 1,\n",
    "                matrix[x-1,y-1] + 1,\n",
    "                matrix[x,y-1] + 1\n",
    "            )\n",
    "\n",
    "# final matrix\n",
    "matrix"
   ]
  },
  {
   "cell_type": "code",
   "execution_count": 13,
   "metadata": {},
   "outputs": [
    {
     "data": {
      "text/plain": [
       "4.0"
      ]
     },
     "execution_count": 13,
     "metadata": {},
     "output_type": "execute_result"
    }
   ],
   "source": [
    "# levenshtein distance\n",
    "matrix[size_x - 1, size_y - 1]"
   ]
  },
  {
   "cell_type": "code",
   "execution_count": null,
   "metadata": {},
   "outputs": [],
   "source": []
  }
 ],
 "metadata": {
  "kernelspec": {
   "display_name": "Python 3",
   "language": "python",
   "name": "python3"
  },
  "language_info": {
   "codemirror_mode": {
    "name": "ipython",
    "version": 3
   },
   "file_extension": ".py",
   "mimetype": "text/x-python",
   "name": "python",
   "nbconvert_exporter": "python",
   "pygments_lexer": "ipython3",
   "version": "3.9.6"
  }
 },
 "nbformat": 4,
 "nbformat_minor": 2
}
