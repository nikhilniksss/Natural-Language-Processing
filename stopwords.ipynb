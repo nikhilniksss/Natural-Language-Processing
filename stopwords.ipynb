{
 "cells": [
  {
   "cell_type": "markdown",
   "metadata": {},
   "source": [
    "***stopwords removal***"
   ]
  },
  {
   "cell_type": "code",
   "execution_count": 1,
   "metadata": {},
   "outputs": [
    {
     "name": "stdout",
     "output_type": "stream",
     "text": [
      "The moon is the satellite of the earth. It moves round the earth. It shines at night by light reflected from the Sun. It looks beautiful. The bright Moonlight is very soothing. The earthly objects shine like silver in the moonlight. We are fascinated by the enchanting beauty of the Moon. The moon is not as beautiful as it looks. It seems to be lovely when it shines in the sky at night. As a matter of fact it is devoid of plants and animals. The moon is not a suitable place for plants and animals. Therefore, no form of life can be found on the moon. Unlike the earth, the moon has got no atmosphere. Therefore, the lunar days are very hot and the lunar nights are intensely cold. The moon looks beautiful from the earth but in fact it has up forbidding appearance. It is full of rocks and craters. When we look at the moon at night we see some dark spots on it. These dark spots are dangerous rocks and craters. The gravitational pull of the moon is less than that of the earth, so it is difficult to walk on the surface of the Moon. The moon has fascinated man since the beginning of his life on the earth. He has looked at it with wonder. Many poets have composed beautiful poems on the moon. Scientists tried to reveal the mystery of the moon. They wanted to send human to the moon. Several attempts were made to place man on the moon. At last two Americans-Neil Armstrong and Edwin Aldrin-reached the moon on July 21, 1969. They walked on the surface of the moon and collected the lunar rocks. They returned to the earth safely. The American scientists have sent men to the moon several times. Now the moon has been conquered by man. It is no longer a mysterious object. The journey of the moon may be thrilling but it cannot make our life on the earth happy. It is better to have a happy life on the earth then to go to the moon.\n",
      "\n"
     ]
    }
   ],
   "source": [
    "# load the text file\n",
    "\n",
    "file = open(r\"/Users/nick_mac/Desktop/Natural-Language-Processing/datasets/moon.txt\",encoding=\"utf-8\")\n",
    "text = file.read()\n",
    "file.close()\n",
    "\n",
    "print(text)"
   ]
  },
  {
   "cell_type": "code",
   "execution_count": 2,
   "metadata": {},
   "outputs": [
    {
     "name": "stdout",
     "output_type": "stream",
     "text": [
      "the moon is the satellite of the earth it moves round the earth it shines at night by light reflected from the sun it looks beautiful the bright moonlight is very soothing the earthly objects shine like silver in the moonlight we are fascinated by the enchanting beauty of the moon the moon is not as beautiful as it looks it seems to be lovely when it shines in the sky at night as a matter of fact it is devoid of plants and animals the moon is not a suitable place for plants and animals therefore no form of life can be found on the moon unlike the earth the moon has got no atmosphere therefore the lunar days are very hot and the lunar nights are intensely cold the moon looks beautiful from the earth but in fact it has up forbidding appearance it is full of rocks and craters when we look at the moon at night we see some dark spots on it these dark spots are dangerous rocks and craters the gravitational pull of the moon is less than that of the earth so it is difficult to walk on the surface of the moon the moon has fascinated man since the beginning of his life on the earth he has looked at it with wonder many poets have composed beautiful poems on the moon scientists tried to reveal the mystery of the moon they wanted to send human to the moon several attempts were made to place man on the moon at last two americansneil armstrong and edwin aldrinreached the moon on july 21 1969 they walked on the surface of the moon and collected the lunar rocks they returned to the earth safely the american scientists have sent men to the moon several times now the moon has been conquered by man it is no longer a mysterious object the journey of the moon may be thrilling but it cannot make our life on the earth happy it is better to have a happy life on the earth then to go to the moon\n"
     ]
    }
   ],
   "source": [
    "# clean the text \n",
    "\n",
    "import re\n",
    "\n",
    "def clean_text(text):\n",
    "    text = text.lower()\n",
    "    text = re.sub('[,.\\n]','',text)\n",
    "    text = re.sub('-','',text)\n",
    "    return text\n",
    "\n",
    "cleaned_text = clean_text(text)\n",
    "print(cleaned_text)"
   ]
  },
  {
   "cell_type": "markdown",
   "metadata": {},
   "source": [
    "***finding most frequents words***"
   ]
  },
  {
   "cell_type": "code",
   "execution_count": 4,
   "metadata": {},
   "outputs": [],
   "source": [
    "import spacy\n",
    "import warnings\n",
    "warnings.filterwarnings(\"ignore\")\n",
    "\n",
    "nlp = spacy.load('en_core_web_sm')"
   ]
  },
  {
   "cell_type": "code",
   "execution_count": 5,
   "metadata": {},
   "outputs": [],
   "source": [
    "# creating doc objects\n",
    "\n",
    "doc = nlp(cleaned_text)"
   ]
  },
  {
   "cell_type": "code",
   "execution_count": 6,
   "metadata": {},
   "outputs": [],
   "source": [
    "# creating word dictionary\n",
    "\n",
    "word_dict = {}\n",
    "\n",
    "for token in doc:\n",
    "    if token.text in word_dict:\n",
    "        word_dict[token.text] += 1\n",
    "    else:\n",
    "        word_dict[token.text] = 1"
   ]
  },
  {
   "cell_type": "code",
   "execution_count": 7,
   "metadata": {},
   "outputs": [
    {
     "data": {
      "text/plain": [
       "{'the': 47,\n",
       " 'moon': 21,\n",
       " 'is': 10,\n",
       " 'satellite': 1,\n",
       " 'of': 13,\n",
       " 'earth': 9,\n",
       " 'it': 15,\n",
       " 'moves': 1,\n",
       " 'round': 1,\n",
       " 'shines': 2,\n",
       " 'at': 6,\n",
       " 'night': 3,\n",
       " 'by': 3,\n",
       " 'light': 1,\n",
       " 'reflected': 1,\n",
       " 'from': 2,\n",
       " 'sun': 1,\n",
       " 'looks': 3,\n",
       " 'beautiful': 4,\n",
       " 'bright': 1,\n",
       " 'moonlight': 2,\n",
       " 'very': 2,\n",
       " 'soothing': 1,\n",
       " 'earthly': 1,\n",
       " 'objects': 1,\n",
       " 'shine': 1,\n",
       " 'like': 1,\n",
       " 'silver': 1,\n",
       " 'in': 3,\n",
       " 'we': 3,\n",
       " 'are': 4,\n",
       " 'fascinated': 2,\n",
       " 'enchanting': 1,\n",
       " 'beauty': 1,\n",
       " 'not': 3,\n",
       " 'as': 3,\n",
       " 'seems': 1,\n",
       " 'to': 11,\n",
       " 'be': 3,\n",
       " 'lovely': 1,\n",
       " 'when': 2,\n",
       " 'sky': 1,\n",
       " 'a': 4,\n",
       " 'matter': 1,\n",
       " 'fact': 2,\n",
       " 'devoid': 1,\n",
       " 'plants': 2,\n",
       " 'and': 7,\n",
       " 'animals': 2,\n",
       " 'suitable': 1,\n",
       " 'place': 2,\n",
       " 'for': 1,\n",
       " 'therefore': 2,\n",
       " 'no': 3,\n",
       " 'form': 1,\n",
       " 'life': 4,\n",
       " 'can': 2,\n",
       " 'found': 1,\n",
       " 'on': 10,\n",
       " 'unlike': 1,\n",
       " 'has': 5,\n",
       " 'got': 1,\n",
       " 'atmosphere': 1,\n",
       " 'lunar': 3,\n",
       " 'days': 1,\n",
       " 'hot': 1,\n",
       " 'nights': 1,\n",
       " 'intensely': 1,\n",
       " 'cold': 1,\n",
       " 'but': 2,\n",
       " 'up': 1,\n",
       " 'forbidding': 1,\n",
       " 'appearance': 1,\n",
       " 'full': 1,\n",
       " 'rocks': 3,\n",
       " 'craters': 2,\n",
       " 'look': 1,\n",
       " 'see': 1,\n",
       " 'some': 1,\n",
       " 'dark': 2,\n",
       " 'spots': 2,\n",
       " 'these': 1,\n",
       " 'dangerous': 1,\n",
       " 'gravitational': 1,\n",
       " 'pull': 1,\n",
       " 'less': 1,\n",
       " 'than': 1,\n",
       " 'that': 1,\n",
       " 'so': 1,\n",
       " 'difficult': 1,\n",
       " 'walk': 1,\n",
       " 'surface': 2,\n",
       " 'man': 3,\n",
       " 'since': 1,\n",
       " 'beginning': 1,\n",
       " 'his': 1,\n",
       " 'he': 1,\n",
       " 'looked': 1,\n",
       " 'with': 1,\n",
       " 'wonder': 1,\n",
       " 'many': 1,\n",
       " 'poets': 1,\n",
       " 'have': 3,\n",
       " 'composed': 1,\n",
       " 'poems': 1,\n",
       " 'scientists': 2,\n",
       " 'tried': 1,\n",
       " 'reveal': 1,\n",
       " 'mystery': 1,\n",
       " 'they': 3,\n",
       " 'wanted': 1,\n",
       " 'send': 1,\n",
       " 'human': 1,\n",
       " 'several': 2,\n",
       " 'attempts': 1,\n",
       " 'were': 1,\n",
       " 'made': 1,\n",
       " 'last': 1,\n",
       " 'two': 1,\n",
       " 'americansneil': 1,\n",
       " 'armstrong': 1,\n",
       " 'edwin': 1,\n",
       " 'aldrinreached': 1,\n",
       " 'july': 1,\n",
       " '21': 1,\n",
       " '1969': 1,\n",
       " 'walked': 1,\n",
       " 'collected': 1,\n",
       " 'returned': 1,\n",
       " 'safely': 1,\n",
       " 'american': 1,\n",
       " 'sent': 1,\n",
       " 'men': 1,\n",
       " 'times': 1,\n",
       " 'now': 1,\n",
       " 'been': 1,\n",
       " 'conquered': 1,\n",
       " 'longer': 1,\n",
       " 'mysterious': 1,\n",
       " 'object': 1,\n",
       " 'journey': 1,\n",
       " 'may': 1,\n",
       " 'thrilling': 1,\n",
       " 'make': 1,\n",
       " 'our': 1,\n",
       " 'happy': 2,\n",
       " 'better': 1,\n",
       " 'then': 1,\n",
       " 'go': 1}"
      ]
     },
     "execution_count": 7,
     "metadata": {},
     "output_type": "execute_result"
    }
   ],
   "source": [
    "# check the word dictionary\n",
    "\n",
    "word_dict"
   ]
  },
  {
   "cell_type": "code",
   "execution_count": 11,
   "metadata": {},
   "outputs": [
    {
     "data": {
      "text/html": [
       "<div>\n",
       "<style scoped>\n",
       "    .dataframe tbody tr th:only-of-type {\n",
       "        vertical-align: middle;\n",
       "    }\n",
       "\n",
       "    .dataframe tbody tr th {\n",
       "        vertical-align: top;\n",
       "    }\n",
       "\n",
       "    .dataframe thead th {\n",
       "        text-align: right;\n",
       "    }\n",
       "</style>\n",
       "<table border=\"1\" class=\"dataframe\">\n",
       "  <thead>\n",
       "    <tr style=\"text-align: right;\">\n",
       "      <th></th>\n",
       "      <th>word</th>\n",
       "      <th>count</th>\n",
       "    </tr>\n",
       "  </thead>\n",
       "  <tbody>\n",
       "    <tr>\n",
       "      <th>0</th>\n",
       "      <td>the</td>\n",
       "      <td>47</td>\n",
       "    </tr>\n",
       "    <tr>\n",
       "      <th>1</th>\n",
       "      <td>moon</td>\n",
       "      <td>21</td>\n",
       "    </tr>\n",
       "    <tr>\n",
       "      <th>2</th>\n",
       "      <td>it</td>\n",
       "      <td>15</td>\n",
       "    </tr>\n",
       "    <tr>\n",
       "      <th>3</th>\n",
       "      <td>of</td>\n",
       "      <td>13</td>\n",
       "    </tr>\n",
       "    <tr>\n",
       "      <th>4</th>\n",
       "      <td>to</td>\n",
       "      <td>11</td>\n",
       "    </tr>\n",
       "  </tbody>\n",
       "</table>\n",
       "</div>"
      ],
      "text/plain": [
       "   word  count\n",
       "0   the     47\n",
       "1  moon     21\n",
       "2    it     15\n",
       "3    of     13\n",
       "4    to     11"
      ]
     },
     "execution_count": 11,
     "metadata": {},
     "output_type": "execute_result"
    }
   ],
   "source": [
    "# let's convert this into dataframe\n",
    "\n",
    "import pandas as pd\n",
    "df = pd.DataFrame({'word':list(word_dict.keys()),'count':list(word_dict.values())})\n",
    "df.sort_values(by='count',ascending=False,inplace=True,ignore_index=True)\n",
    "df.head(5)"
   ]
  },
  {
   "cell_type": "code",
   "execution_count": 13,
   "metadata": {},
   "outputs": [
    {
     "name": "stdout",
     "output_type": "stream",
     "text": [
      "{'against', '‘s', 'too', 'along', 'whom', 'forty', 'well', 'the', 'anyway', 'least', 'fifty', 'whatever', 'after', 'afterwards', 'almost', 'seeming', 'everyone', 'meanwhile', 'became', 'somewhere', 'others', 'someone', 'back', 'keep', 'in', 'everything', 'towards', 'other', 'therefore', 'why', 'though', 'neither', 'yet', 'would', 'thereupon', 'own', 'such', 'five', 'thence', 'between', 'regarding', 'thru', 'or', 'alone', 'behind', 'empty', 'just', 'becomes', 'yourselves', 'a', 'also', '’re', '’s', 'doing', 'when', 'say', 'three', 'very', 'we', 'sometime', 'n’t', 'using', 'wherein', 'being', 'this', 'various', 'nor', 'often', 'somehow', 'beside', 'two', 'even', 'used', 'around', \"'m\", 'move', 're', 'seem', 'as', 'go', 'are', 'see', 'have', 'otherwise', 'it', 'always', 'take', 'these', 'eight', 'moreover', 'her', 'across', 'only', 'everywhere', 'should', 'their', 'anyhow', 'throughout', 'your', 'nevertheless', 'himself', 'hers', 'than', 'last', 'all', 'whoever', 'call', 'top', 'yours', 'above', 'less', 'further', 'those', 'none', 'for', 'made', 'which', 'next', 'herself', 'front', 'fifteen', 'us', 'nothing', 'they', 'sixty', 'thereby', 'few', 'hence', 'where', '‘ve', 'me', 'to', 'make', 'done', 'herein', 'hereafter', 'up', '‘re', 'become', 'then', \"'d\", 'over', 'until', 'give', 'its', 'although', 'one', 'whereas', '‘ll', 'from', 'mostly', 'again', 'out', 'unless', 'with', 'however', 'before', 'something', 'latter', 'at', 'among', 'can', 'hereby', 'no', 'per', 'will', 'due', 'else', 'show', 'already', 'ourselves', \"'ve\", 'eleven', 'first', 'did', 'an', 'same', 'has', 'besides', 'anyone', 'since', 'former', 'because', 'ours', 'without', 'whenever', 'hundred', 'below', 'any', 'but', 'some', 'twelve', 'namely', 'except', '‘m', 'together', 'does', 'third', 'nowhere', 'cannot', 'both', 'that', 'noone', 'how', 'must', 'whence', 'his', 'of', 'nobody', 'wherever', 'itself', 'toward', 'rather', 'ten', 'may', \"'s\", 'anywhere', 'full', 'now', 'side', 'latterly', '’ve', 'by', 'elsewhere', 'formerly', 'seems', 'amount', 'you', '’m', 'through', 'might', 'still', 'myself', 'during', '‘d', 'could', 'seemed', 'amongst', 'so', 'what', 'whereafter', 'who', 'once', 'whose', 'many', 'beyond', 'mine', 'them', 'down', 'here', 'more', 'off', 'while', 'part', 'twenty', 'nine', \"'re\", 'via', 'anything', 'whereby', 'been', 'themselves', 'sometimes', 'indeed', 'onto', 'under', 'upon', 'enough', 'whether', 'every', 'whither', 'am', \"'ll\", 'get', 'whole', 'bottom', '’ll', 'and', 'hereupon', 'into', 'beforehand', 'within', 'ca', 'much', 'either', 'serious', 'about', 'him', 'my', 'name', 'our', '’d', 'please', 'n‘t', 'never', 'several', 'thereafter', 'really', 'whereupon', 'thus', 'was', 'had', 'therein', 'do', 'be', 'were', 'if', 'she', 'quite', 'he', 'each', 'four', 'ever', 'i', 'not', 'there', 'is', 'another', 'put', 'six', 'most', 'yourself', 'becoming', 'perhaps', 'on', \"n't\"}\n",
      "326\n"
     ]
    }
   ],
   "source": [
    "# let's check stopwords from spacy\n",
    "\n",
    "print(nlp.Defaults.stop_words)\n",
    "print(len(nlp.Defaults.stop_words))"
   ]
  },
  {
   "cell_type": "code",
   "execution_count": 15,
   "metadata": {},
   "outputs": [
    {
     "name": "stdout",
     "output_type": "stream",
     "text": [
      "['moon', 'satellite', 'earth', 'moves', 'round', 'earth', 'shines', 'night', 'light', 'reflected', 'sun', 'looks', 'beautiful', 'bright', 'moonlight', 'soothing', 'earthly', 'objects', 'shine', 'like', 'silver', 'moonlight', 'fascinated', 'enchanting', 'beauty', 'moon', 'moon', 'beautiful', 'looks', 'lovely', 'shines', 'sky', 'night', 'matter', 'fact', 'devoid', 'plants', 'animals', 'moon', 'suitable', 'place', 'plants', 'animals', 'form', 'life', 'found', 'moon', 'unlike', 'earth', 'moon', 'got', 'atmosphere', 'lunar', 'days', 'hot', 'lunar', 'nights', 'intensely', 'cold', 'moon', 'looks', 'beautiful', 'earth', 'fact', 'forbidding', 'appearance', 'rocks', 'craters', 'look', 'moon', 'night', 'dark', 'spots', 'dark', 'spots', 'dangerous', 'rocks', 'craters', 'gravitational', 'pull', 'moon', 'earth', 'difficult', 'walk', 'surface', 'moon', 'moon', 'fascinated', 'man', 'beginning', 'life', 'earth', 'looked', 'wonder', 'poets', 'composed', 'beautiful', 'poems', 'moon', 'scientists', 'tried', 'reveal', 'mystery', 'moon', 'wanted', 'send', 'human', 'moon', 'attempts', 'place', 'man', 'moon', 'americansneil', 'armstrong', 'edwin', 'aldrinreached', 'moon', 'july', '21', '1969', 'walked', 'surface', 'moon', 'collected', 'lunar', 'rocks', 'returned', 'earth', 'safely', 'american', 'scientists', 'sent', 'men', 'moon', 'times', 'moon', 'conquered', 'man', 'longer', 'mysterious', 'object', 'journey', 'moon', 'thrilling', 'life', 'earth', 'happy', 'better', 'happy', 'life', 'earth', 'moon']\n"
     ]
    }
   ],
   "source": [
    "# let's create new token without stopwords\n",
    "\n",
    "new_tokens = [token.text for token in doc if (token.is_stop == False)]\n",
    "print(new_tokens)"
   ]
  },
  {
   "cell_type": "code",
   "execution_count": 17,
   "metadata": {},
   "outputs": [],
   "source": [
    "# let's create words frequeny of new token\n",
    "\n",
    "word_dict_without_stopwords = {}\n",
    "\n",
    "for token in new_tokens:\n",
    "    if token in word_dict_without_stopwords:\n",
    "        word_dict_without_stopwords[token] += 1\n",
    "    else:\n",
    "        word_dict_without_stopwords[token] = 1"
   ]
  },
  {
   "cell_type": "code",
   "execution_count": 19,
   "metadata": {},
   "outputs": [
    {
     "data": {
      "text/html": [
       "<div>\n",
       "<style scoped>\n",
       "    .dataframe tbody tr th:only-of-type {\n",
       "        vertical-align: middle;\n",
       "    }\n",
       "\n",
       "    .dataframe tbody tr th {\n",
       "        vertical-align: top;\n",
       "    }\n",
       "\n",
       "    .dataframe thead th {\n",
       "        text-align: right;\n",
       "    }\n",
       "</style>\n",
       "<table border=\"1\" class=\"dataframe\">\n",
       "  <thead>\n",
       "    <tr style=\"text-align: right;\">\n",
       "      <th></th>\n",
       "      <th>word</th>\n",
       "      <th>count</th>\n",
       "    </tr>\n",
       "  </thead>\n",
       "  <tbody>\n",
       "    <tr>\n",
       "      <th>0</th>\n",
       "      <td>moon</td>\n",
       "      <td>21</td>\n",
       "    </tr>\n",
       "    <tr>\n",
       "      <th>1</th>\n",
       "      <td>earth</td>\n",
       "      <td>9</td>\n",
       "    </tr>\n",
       "    <tr>\n",
       "      <th>2</th>\n",
       "      <td>life</td>\n",
       "      <td>4</td>\n",
       "    </tr>\n",
       "    <tr>\n",
       "      <th>3</th>\n",
       "      <td>beautiful</td>\n",
       "      <td>4</td>\n",
       "    </tr>\n",
       "    <tr>\n",
       "      <th>4</th>\n",
       "      <td>rocks</td>\n",
       "      <td>3</td>\n",
       "    </tr>\n",
       "  </tbody>\n",
       "</table>\n",
       "</div>"
      ],
      "text/plain": [
       "        word  count\n",
       "0       moon     21\n",
       "1      earth      9\n",
       "2       life      4\n",
       "3  beautiful      4\n",
       "4      rocks      3"
      ]
     },
     "execution_count": 19,
     "metadata": {},
     "output_type": "execute_result"
    }
   ],
   "source": [
    "# let's convert this into dataframe\n",
    "\n",
    "import pandas as pd\n",
    "df = pd.DataFrame({'word':list(word_dict_without_stopwords.keys()),'count':list(word_dict_without_stopwords.values())})\n",
    "df.sort_values(by='count',ascending=False,inplace=True,ignore_index=True)\n",
    "df.head(5)"
   ]
  },
  {
   "cell_type": "code",
   "execution_count": null,
   "metadata": {},
   "outputs": [],
   "source": []
  }
 ],
 "metadata": {
  "kernelspec": {
   "display_name": "Python 3",
   "language": "python",
   "name": "python3"
  },
  "language_info": {
   "codemirror_mode": {
    "name": "ipython",
    "version": 3
   },
   "file_extension": ".py",
   "mimetype": "text/x-python",
   "name": "python",
   "nbconvert_exporter": "python",
   "pygments_lexer": "ipython3",
   "version": "3.9.6"
  }
 },
 "nbformat": 4,
 "nbformat_minor": 2
}
