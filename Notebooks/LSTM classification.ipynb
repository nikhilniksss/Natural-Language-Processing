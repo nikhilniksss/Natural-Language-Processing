{
 "cells": [
  {
   "cell_type": "markdown",
   "id": "nuclear-monaco",
   "metadata": {},
   "source": [
    "#### IMDB Classification using RNN LSTM"
   ]
  },
  {
   "cell_type": "code",
   "execution_count": 2,
   "id": "boxed-sunset",
   "metadata": {},
   "outputs": [],
   "source": [
    "# Import libraries\n",
    "import warnings\n",
    "warnings.filterwarnings('ignore')\n",
    "from keras.preprocessing import sequence\n",
    "from keras.models import Sequential\n",
    "from keras.layers import Dense,Embedding,LSTM\n",
    "from keras.datasets import imdb"
   ]
  },
  {
   "cell_type": "code",
   "execution_count": 3,
   "id": "neutral-graphic",
   "metadata": {},
   "outputs": [],
   "source": [
    "# setting parameters for dataset\n",
    "\n",
    "max_features = 20000\n",
    "maxlen = 80\n",
    "batch_size = 36"
   ]
  },
  {
   "cell_type": "code",
   "execution_count": 4,
   "id": "distinguished-hindu",
   "metadata": {},
   "outputs": [],
   "source": [
    "# train and test\n",
    "\n",
    "(X_train,y_train),(X_test,y_test) = imdb.load_data(num_words = max_features,maxlen = maxlen)"
   ]
  },
  {
   "cell_type": "code",
   "execution_count": 5,
   "id": "vulnerable-surgeon",
   "metadata": {},
   "outputs": [
    {
     "name": "stdout",
     "output_type": "stream",
     "text": [
      "1864 train sequence\n",
      "2021 test sequence\n"
     ]
    }
   ],
   "source": [
    "# checking len of train and test\n",
    "\n",
    "print(len(X_train),'train sequence')\n",
    "print(len(X_test),'test sequence')"
   ]
  },
  {
   "cell_type": "code",
   "execution_count": 6,
   "id": "thick-aquatic",
   "metadata": {},
   "outputs": [],
   "source": [
    "# padding operation\n",
    "\n",
    "X_train = sequence.pad_sequences(X_train,maxlen = maxlen)\n",
    "X_test = sequence.pad_sequences(X_test,maxlen = maxlen)"
   ]
  },
  {
   "cell_type": "code",
   "execution_count": 7,
   "id": "monthly-tsunami",
   "metadata": {},
   "outputs": [],
   "source": [
    "# model buiding\n",
    "\n",
    "model = Sequential()\n",
    "model.add(Embedding(max_features,128))\n",
    "model.add(LSTM(128,dropout = 0.2,recurrent_dropout = 0.2))\n",
    "model.add(Dense(1,activation = 'sigmoid'))"
   ]
  },
  {
   "cell_type": "code",
   "execution_count": 8,
   "id": "sustainable-plaza",
   "metadata": {},
   "outputs": [],
   "source": [
    "# model compilation\n",
    "\n",
    "model.compile(loss = 'binary_crossentropy',optimizer = 'adam',metrics = ['accuracy'])"
   ]
  },
  {
   "cell_type": "code",
   "execution_count": 9,
   "id": "reduced-compatibility",
   "metadata": {},
   "outputs": [
    {
     "name": "stdout",
     "output_type": "stream",
     "text": [
      "Epoch 1/5\n",
      "52/52 [==============================] - 16s 249ms/step - loss: 0.6769 - accuracy: 0.5813 - val_loss: 0.5149 - val_accuracy: 0.7709\n",
      "Epoch 2/5\n",
      "52/52 [==============================] - 12s 233ms/step - loss: 0.3597 - accuracy: 0.8846 - val_loss: 0.4099 - val_accuracy: 0.8125\n",
      "Epoch 3/5\n",
      "52/52 [==============================] - 12s 240ms/step - loss: 0.1052 - accuracy: 0.9672 - val_loss: 0.4974 - val_accuracy: 0.8258\n",
      "Epoch 4/5\n",
      "52/52 [==============================] - 13s 247ms/step - loss: 0.0706 - accuracy: 0.9799 - val_loss: 0.4635 - val_accuracy: 0.8135\n",
      "Epoch 5/5\n",
      "52/52 [==============================] - 12s 228ms/step - loss: 0.0231 - accuracy: 0.9971 - val_loss: 0.7881 - val_accuracy: 0.8253\n"
     ]
    },
    {
     "data": {
      "text/plain": [
       "<tensorflow.python.keras.callbacks.History at 0x7fbc8e1620a0>"
      ]
     },
     "execution_count": 9,
     "metadata": {},
     "output_type": "execute_result"
    }
   ],
   "source": [
    "# model fitting\n",
    "\n",
    "model.fit(X_train,y_train,epochs = 5,batch_size = batch_size,validation_data = (X_test,y_test))"
   ]
  },
  {
   "cell_type": "code",
   "execution_count": 10,
   "id": "chicken-settlement",
   "metadata": {},
   "outputs": [
    {
     "data": {
      "text/plain": [
       "array([[1.7282277e-02],\n",
       "       [9.8632056e-01],\n",
       "       [9.9908501e-01],\n",
       "       ...,\n",
       "       [6.4119697e-04],\n",
       "       [9.9965549e-01],\n",
       "       [1.7872810e-02]], dtype=float32)"
      ]
     },
     "execution_count": 10,
     "metadata": {},
     "output_type": "execute_result"
    }
   ],
   "source": [
    "# prediction\n",
    "\n",
    "model.predict(X_test)"
   ]
  },
  {
   "cell_type": "code",
   "execution_count": 11,
   "id": "another-commission",
   "metadata": {},
   "outputs": [
    {
     "name": "stdout",
     "output_type": "stream",
     "text": [
      "57/57 [==============================] - 2s 27ms/step - loss: 0.7881 - accuracy: 0.8253\n"
     ]
    }
   ],
   "source": [
    "# accuracy\n",
    "\n",
    "acc = model.evaluate(X_test,y_test,batch_size = batch_size)"
   ]
  },
  {
   "cell_type": "code",
   "execution_count": 22,
   "id": "defined-benjamin",
   "metadata": {},
   "outputs": [
    {
     "name": "stdout",
     "output_type": "stream",
     "text": [
      "Collecting package metadata (current_repodata.json): done\n",
      "Solving environment: done\n",
      "\n",
      "## Package Plan ##\n",
      "\n",
      "  environment location: /Users/nick/opt/anaconda3/envs/Tensorflow\n",
      "\n",
      "  added / updated specs:\n",
      "    - shap\n",
      "\n",
      "\n",
      "The following packages will be downloaded:\n",
      "\n",
      "    package                    |            build\n",
      "    ---------------------------|-----------------\n",
      "    appdirs-1.4.4              |     pyh9f0ad1d_0          13 KB  conda-forge\n",
      "    ca-certificates-2020.12.5  |       h033912b_0         138 KB  conda-forge\n",
      "    certifi-2020.12.5          |   py38h50d1736_1         143 KB  conda-forge\n",
      "    cloudpickle-1.6.0          |             py_0          22 KB  conda-forge\n",
      "    cycler-0.10.0              |             py_2           9 KB  conda-forge\n",
      "    cytoolz-0.11.0             |   py38h5406a74_3         339 KB  conda-forge\n",
      "    dask-core-2021.3.0         |     pyhd8ed1ab_0         702 KB  conda-forge\n",
      "    enum34-1.1.10              |   py38h32f6830_2           4 KB  conda-forge\n",
      "    imagecodecs-lite-2019.12.3 |   py38hc7193ba_3         171 KB  conda-forge\n",
      "    imageio-2.9.0              |             py_0         3.1 MB  conda-forge\n",
      "    joblib-1.0.1               |     pyhd8ed1ab_0         206 KB  conda-forge\n",
      "    kiwisolver-1.3.1           |   py38hd9c93a9_1          57 KB  conda-forge\n",
      "    libcxx-11.1.0              |       habf9029_0         1.0 MB  conda-forge\n",
      "    libgfortran-3.0.1          |                0         495 KB  conda-forge\n",
      "    libllvm10-10.0.1           |       h009f743_3        20.8 MB  conda-forge\n",
      "    llvm-openmp-11.1.0         |       hda6cdc1_0         268 KB  conda-forge\n",
      "    llvmlite-0.36.0            |   py38h872f124_0         233 KB  conda-forge\n",
      "    matplotlib-base-3.3.4      |   py38hb24f337_0         6.8 MB  conda-forge\n",
      "    networkx-2.5               |             py_0         1.2 MB  conda-forge\n",
      "    numba-0.53.0               |   py38hab5c5c7_1         3.6 MB  conda-forge\n",
      "    openssl-1.1.1j             |       hbcf498f_0         1.9 MB  conda-forge\n",
      "    pandas-1.2.3               |   py38h1588c1c_0        10.6 MB  conda-forge\n",
      "    pathlib-1.0.1              |   py38h50d1736_4           4 KB  conda-forge\n",
      "    pooch-1.3.0                |     pyhd8ed1ab_0          40 KB  conda-forge\n",
      "    pytz-2021.1                |     pyhd8ed1ab_0         239 KB  conda-forge\n",
      "    pywavelets-1.1.1           |   py38hc7193ba_3         4.3 MB  conda-forge\n",
      "    pyyaml-5.4.1               |   py38h5406a74_0         167 KB  conda-forge\n",
      "    scikit-image-0.18.1        |   py38he9f00de_0        10.6 MB  conda-forge\n",
      "    scikit-learn-0.24.1        |   py38hb2f4e1b_0         4.9 MB\n",
      "    scipy-1.6.1                |   py38h2515648_0        14.5 MB\n",
      "    shap-0.37.0                |   py38h6668005_0         501 KB  conda-forge\n",
      "    slicer-0.0.7               |     pyhd8ed1ab_0          16 KB  conda-forge\n",
      "    threadpoolctl-2.1.0        |     pyh5ca1d4c_0          15 KB  conda-forge\n",
      "    tifffile-2019.7.26.2       |           py38_0         219 KB  conda-forge\n",
      "    toolz-0.11.1               |             py_0          46 KB  conda-forge\n",
      "    tqdm-4.59.0                |     pyhd8ed1ab_0          77 KB  conda-forge\n",
      "    yaml-0.2.5                 |       haf1e3a3_0          81 KB  conda-forge\n",
      "    ------------------------------------------------------------\n",
      "                                           Total:        87.5 MB\n",
      "\n",
      "The following NEW packages will be INSTALLED:\n",
      "\n",
      "  appdirs            conda-forge/noarch::appdirs-1.4.4-pyh9f0ad1d_0\n",
      "  cloudpickle        conda-forge/noarch::cloudpickle-1.6.0-py_0\n",
      "  cycler             conda-forge/noarch::cycler-0.10.0-py_2\n",
      "  cytoolz            conda-forge/osx-64::cytoolz-0.11.0-py38h5406a74_3\n",
      "  dask-core          conda-forge/noarch::dask-core-2021.3.0-pyhd8ed1ab_0\n",
      "  enum34             conda-forge/osx-64::enum34-1.1.10-py38h32f6830_2\n",
      "  imagecodecs-lite   conda-forge/osx-64::imagecodecs-lite-2019.12.3-py38hc7193ba_3\n",
      "  imageio            conda-forge/noarch::imageio-2.9.0-py_0\n",
      "  joblib             conda-forge/noarch::joblib-1.0.1-pyhd8ed1ab_0\n",
      "  kiwisolver         conda-forge/osx-64::kiwisolver-1.3.1-py38hd9c93a9_1\n",
      "  libgfortran        conda-forge/osx-64::libgfortran-3.0.1-0\n",
      "  libllvm10          conda-forge/osx-64::libllvm10-10.0.1-h009f743_3\n",
      "  llvm-openmp        conda-forge/osx-64::llvm-openmp-11.1.0-hda6cdc1_0\n",
      "  llvmlite           conda-forge/osx-64::llvmlite-0.36.0-py38h872f124_0\n",
      "  matplotlib-base    conda-forge/osx-64::matplotlib-base-3.3.4-py38hb24f337_0\n",
      "  networkx           conda-forge/noarch::networkx-2.5-py_0\n",
      "  numba              conda-forge/osx-64::numba-0.53.0-py38hab5c5c7_1\n",
      "  pandas             conda-forge/osx-64::pandas-1.2.3-py38h1588c1c_0\n",
      "  pathlib            conda-forge/osx-64::pathlib-1.0.1-py38h50d1736_4\n",
      "  pooch              conda-forge/noarch::pooch-1.3.0-pyhd8ed1ab_0\n",
      "  python_abi         conda-forge/osx-64::python_abi-3.8-1_cp38\n",
      "  pytz               conda-forge/noarch::pytz-2021.1-pyhd8ed1ab_0\n",
      "  pywavelets         conda-forge/osx-64::pywavelets-1.1.1-py38hc7193ba_3\n",
      "  pyyaml             conda-forge/osx-64::pyyaml-5.4.1-py38h5406a74_0\n",
      "  scikit-image       conda-forge/osx-64::scikit-image-0.18.1-py38he9f00de_0\n",
      "  scikit-learn       pkgs/main/osx-64::scikit-learn-0.24.1-py38hb2f4e1b_0\n",
      "  scipy              pkgs/main/osx-64::scipy-1.6.1-py38h2515648_0\n",
      "  shap               conda-forge/osx-64::shap-0.37.0-py38h6668005_0\n",
      "  slicer             conda-forge/noarch::slicer-0.0.7-pyhd8ed1ab_0\n",
      "  threadpoolctl      conda-forge/noarch::threadpoolctl-2.1.0-pyh5ca1d4c_0\n",
      "  tifffile           conda-forge/osx-64::tifffile-2019.7.26.2-py38_0\n",
      "  toolz              conda-forge/noarch::toolz-0.11.1-py_0\n",
      "  tqdm               conda-forge/noarch::tqdm-4.59.0-pyhd8ed1ab_0\n",
      "  yaml               conda-forge/osx-64::yaml-0.2.5-haf1e3a3_0\n",
      "\n",
      "The following packages will be UPDATED:\n",
      "\n",
      "  certifi            pkgs/main::certifi-2020.12.5-py38hecd~ --> conda-forge::certifi-2020.12.5-py38h50d1736_1\n",
      "  libcxx                         pkgs/main::libcxx-10.0.0-1 --> conda-forge::libcxx-11.1.0-habf9029_0\n",
      "  openssl              pkgs/main::openssl-1.1.1i-h9ed2024_0 --> conda-forge::openssl-1.1.1j-hbcf498f_0\n",
      "\n",
      "The following packages will be SUPERSEDED by a higher-priority channel:\n",
      "\n",
      "  ca-certificates    pkgs/main::ca-certificates-2021.1.19-~ --> conda-forge::ca-certificates-2020.12.5-h033912b_0\n",
      "\n",
      "\n",
      "\n",
      "Downloading and Extracting Packages\n",
      "pywavelets-1.1.1     | 4.3 MB    | ##################################### | 100% \n",
      "enum34-1.1.10        | 4 KB      | ##################################### | 100% \n",
      "slicer-0.0.7         | 16 KB     | ##################################### | 100% \n",
      "libcxx-11.1.0        | 1.0 MB    | ##################################### | 100% \n",
      "libllvm10-10.0.1     | 20.8 MB   | ##################################### | 100% \n",
      "yaml-0.2.5           | 81 KB     | ##################################### | 100% \n",
      "scikit-learn-0.24.1  | 4.9 MB    | ##################################### | 100% \n",
      "joblib-1.0.1         | 206 KB    | ##################################### | 100% \n",
      "scikit-image-0.18.1  | 10.6 MB   | ##################################### | 100% \n",
      "openssl-1.1.1j       | 1.9 MB    | ##################################### | 100% \n",
      "imagecodecs-lite-201 | 171 KB    | ##################################### | 100% \n",
      "matplotlib-base-3.3. | 6.8 MB    | ##################################### | 100% \n",
      "tqdm-4.59.0          | 77 KB     | ##################################### | 100% \n",
      "toolz-0.11.1         | 46 KB     | ##################################### | 100% \n",
      "llvmlite-0.36.0      | 233 KB    | ##################################### | 100% \n",
      "cycler-0.10.0        | 9 KB      | ##################################### | 100% \n",
      "cloudpickle-1.6.0    | 22 KB     | ##################################### | 100% \n",
      "numba-0.53.0         | 3.6 MB    | ##################################### | 100% \n",
      "pyyaml-5.4.1         | 167 KB    | ##################################### | 100% \n",
      "imageio-2.9.0        | 3.1 MB    | ##################################### | 100% \n",
      "pooch-1.3.0          | 40 KB     | ##################################### | 100% \n",
      "threadpoolctl-2.1.0  | 15 KB     | ##################################### | 100% \n",
      "cytoolz-0.11.0       | 339 KB    | ##################################### | 100% \n",
      "tifffile-2019.7.26.2 | 219 KB    | ##################################### | 100% \n",
      "dask-core-2021.3.0   | 702 KB    | ##################################### | 100% \n",
      "ca-certificates-2020 | 138 KB    | ##################################### | 100% \n",
      "pandas-1.2.3         | 10.6 MB   | ##################################### | 100% \n",
      "shap-0.37.0          | 501 KB    | ##################################### | 100% \n",
      "scipy-1.6.1          | 14.5 MB   | ##################################### | 100% \n",
      "libgfortran-3.0.1    | 495 KB    | ##################################### | 100% \n",
      "appdirs-1.4.4        | 13 KB     | ##################################### | 100% \n",
      "pytz-2021.1          | 239 KB    | ##################################### | 100% \n",
      "certifi-2020.12.5    | 143 KB    | ##################################### | 100% \n",
      "networkx-2.5         | 1.2 MB    | ##################################### | 100% \n",
      "pathlib-1.0.1        | 4 KB      | ##################################### | 100% \n",
      "kiwisolver-1.3.1     | 57 KB     | ##################################### | 100% \n",
      "llvm-openmp-11.1.0   | 268 KB    | ##################################### | 100% \n",
      "Preparing transaction: done\n",
      "Verifying transaction: done\n",
      "Executing transaction: done\n",
      "\n",
      "Note: you may need to restart the kernel to use updated packages.\n"
     ]
    }
   ],
   "source": [
    "conda install -c conda-forge shap"
   ]
  }
 ],
 "metadata": {
  "kernelspec": {
   "display_name": "Python 3",
   "language": "python",
   "name": "python3"
  },
  "language_info": {
   "codemirror_mode": {
    "name": "ipython",
    "version": 3
   },
   "file_extension": ".py",
   "mimetype": "text/x-python",
   "name": "python",
   "nbconvert_exporter": "python",
   "pygments_lexer": "ipython3",
   "version": "3.8.0"
  }
 },
 "nbformat": 4,
 "nbformat_minor": 5
}
