{
 "cells": [
  {
   "cell_type": "markdown",
   "metadata": {},
   "source": [
    "### ***Relation Extraction***"
   ]
  },
  {
   "cell_type": "code",
   "execution_count": 2,
   "metadata": {},
   "outputs": [],
   "source": [
    "# load important libraries\n",
    "\n",
    "import spacy\n",
    "import warnings\n",
    "warnings.filterwarnings(\"ignore\")\n",
    "from spacy.matcher import Matcher\n",
    "from spacy import displacy"
   ]
  },
  {
   "cell_type": "code",
   "execution_count": 3,
   "metadata": {},
   "outputs": [],
   "source": [
    "# load model\n",
    "\n",
    "nlp = spacy.load(\"en_core_web_sm\")"
   ]
  },
  {
   "cell_type": "code",
   "execution_count": 4,
   "metadata": {},
   "outputs": [],
   "source": [
    "# define string\n",
    "\n",
    "text = \"Developed countries such as USA have a better healthcare infrastructure compared to developing countries.\"\n",
    "\n",
    "# creating doc\n",
    "\n",
    "doc = nlp(text)"
   ]
  },
  {
   "cell_type": "code",
   "execution_count": 5,
   "metadata": {},
   "outputs": [
    {
     "name": "stdout",
     "output_type": "stream",
     "text": [
      "Developed => ADJ => JJ\n",
      "countries => NOUN => NNS\n",
      "such => ADJ => JJ\n",
      "as => ADP => IN\n",
      "USA => PROPN => NNP\n",
      "have => VERB => VBP\n",
      "a => DET => DT\n",
      "better => ADJ => JJR\n",
      "healthcare => NOUN => NN\n",
      "infrastructure => NOUN => NN\n",
      "compared => VERB => VBN\n",
      "to => ADP => IN\n",
      "developing => VERB => VBG\n",
      "countries => NOUN => NNS\n",
      ". => PUNCT => .\n"
     ]
    }
   ],
   "source": [
    "# getting POS tagging\n",
    "\n",
    "for token in doc:\n",
    "    print(token.text,'=>',token.pos_,'=>',token.tag_)"
   ]
  },
  {
   "cell_type": "code",
   "execution_count": 6,
   "metadata": {},
   "outputs": [],
   "source": [
    "# define pattern\n",
    "\n",
    "pattern = [{'POS':'NOUN'},\n",
    "        {'LOWER':'such'},\n",
    "        {'LOWER':'as'},\n",
    "        {'POS':'PROPN'}]"
   ]
  },
  {
   "cell_type": "code",
   "execution_count": 8,
   "metadata": {},
   "outputs": [],
   "source": [
    "# create Matcher Object\n",
    "\n",
    "matcher = Matcher(nlp.vocab)"
   ]
  },
  {
   "cell_type": "code",
   "execution_count": 9,
   "metadata": {},
   "outputs": [],
   "source": [
    "# add the rule to matcher\n",
    "\n",
    "matcher.add(\"Pattern X such as Y\",[pattern])"
   ]
  },
  {
   "cell_type": "code",
   "execution_count": 11,
   "metadata": {},
   "outputs": [],
   "source": [
    "# running pattern on text\n",
    "\n",
    "matches = matcher(doc)"
   ]
  },
  {
   "cell_type": "code",
   "execution_count": 12,
   "metadata": {},
   "outputs": [
    {
     "data": {
      "text/plain": [
       "[(17711623125337077988, 1, 5)]"
      ]
     },
     "execution_count": 12,
     "metadata": {},
     "output_type": "execute_result"
    }
   ],
   "source": [
    "matches"
   ]
  },
  {
   "cell_type": "code",
   "execution_count": 13,
   "metadata": {},
   "outputs": [
    {
     "name": "stdout",
     "output_type": "stream",
     "text": [
      "countries such as USA\n"
     ]
    }
   ],
   "source": [
    "span = doc[matches[0][1]:matches[0][2]]\n",
    "print(span)"
   ]
  }
 ],
 "metadata": {
  "kernelspec": {
   "display_name": "Python 3",
   "language": "python",
   "name": "python3"
  },
  "language_info": {
   "codemirror_mode": {
    "name": "ipython",
    "version": 3
   },
   "file_extension": ".py",
   "mimetype": "text/x-python",
   "name": "python",
   "nbconvert_exporter": "python",
   "pygments_lexer": "ipython3",
   "version": "3.9.6"
  }
 },
 "nbformat": 4,
 "nbformat_minor": 2
}
