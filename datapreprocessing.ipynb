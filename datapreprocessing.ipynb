{
 "cells": [
  {
   "cell_type": "markdown",
   "metadata": {},
   "source": [
    "### <center>NLP Data Preprocessing</center>"
   ]
  },
  {
   "cell_type": "markdown",
   "metadata": {},
   "source": [
    "<center><title>NLP Data Preprocessing<title></center>"
   ]
  },
  {
   "cell_type": "code",
   "execution_count": 3,
   "metadata": {},
   "outputs": [],
   "source": [
    "# Import important libraries\n",
    "\n",
    "import ssl\n",
    "import nltk\n",
    "from nltk.tokenize import word_tokenize\n",
    "from nltk.corpus import stopwords\n",
    "from nltk.stem import PorterStemmer\n",
    "from IPython.display import display, Markdown"
   ]
  },
  {
   "cell_type": "code",
   "execution_count": 4,
   "metadata": {},
   "outputs": [
    {
     "name": "stderr",
     "output_type": "stream",
     "text": [
      "[nltk_data] Downloading package punkt to\n",
      "[nltk_data]     /Users/nikhilsingh/nltk_data...\n",
      "[nltk_data]   Package punkt is already up-to-date!\n",
      "[nltk_data] Downloading package stopwords to\n",
      "[nltk_data]     /Users/nikhilsingh/nltk_data...\n",
      "[nltk_data]   Package stopwords is already up-to-date!\n",
      "[nltk_data] Downloading package averaged_perceptron_tagger to\n",
      "[nltk_data]     /Users/nikhilsingh/nltk_data...\n",
      "[nltk_data]   Package averaged_perceptron_tagger is already up-to-\n",
      "[nltk_data]       date!\n",
      "[nltk_data] Downloading package wordnet to\n",
      "[nltk_data]     /Users/nikhilsingh/nltk_data...\n",
      "[nltk_data]   Package wordnet is already up-to-date!\n"
     ]
    },
    {
     "data": {
      "text/plain": [
       "True"
      ]
     },
     "execution_count": 4,
     "metadata": {},
     "output_type": "execute_result"
    }
   ],
   "source": [
    "# download predefined dictionary\n",
    "\n",
    "nltk.download('punkt')\n",
    "nltk.download('stopwords')\n",
    "nltk.download('averaged_perceptron_tagger')\n",
    "nltk.download('wordnet')"
   ]
  },
  {
   "cell_type": "code",
   "execution_count": 5,
   "metadata": {},
   "outputs": [
    {
     "data": {
      "text/markdown": [
       "The global economy is facing a challenging period. In April 2023, the International Monetary Fund (IMF) projected global growth to slow to 2.8%,\n",
       "down from 3.4% in 2022. Rising inflation, geopolitical tensions, and supply chain disruptions have added to the uncertainty. Major tech companies like Google,\n",
       "Amazon, and Microsoft have responded by cutting jobs and scaling back investments. Meanwhile, emerging markets such as India and Brazil are showing resilience. \n",
       "Artificial Intelligence (AI) is becoming a key area of innovation and competition among nations."
      ],
      "text/plain": [
       "<IPython.core.display.Markdown object>"
      ]
     },
     "metadata": {},
     "output_type": "display_data"
    }
   ],
   "source": [
    "# The text with whic we process\n",
    "\n",
    "text = \"\"\"The global economy is facing a challenging period. In April 2023, the International Monetary Fund (IMF) projected global growth to slow to 2.8%,\n",
    "down from 3.4% in 2022. Rising inflation, geopolitical tensions, and supply chain disruptions have added to the uncertainty. Major tech companies like Google,\n",
    "Amazon, and Microsoft have responded by cutting jobs and scaling back investments. Meanwhile, emerging markets such as India and Brazil are showing resilience. \n",
    "Artificial Intelligence (AI) is becoming a key area of innovation and competition among nations.\"\"\"\n",
    "\n",
    "display(Markdown(text))"
   ]
  },
  {
   "cell_type": "code",
   "execution_count": 6,
   "metadata": {},
   "outputs": [
    {
     "data": {
      "text/markdown": [
       "the global economy is facing a challenging period. in april 2023, the international monetary fund (imf) projected global growth to slow to 2.8%,\n",
       "down from 3.4% in 2022. rising inflation, geopolitical tensions, and supply chain disruptions have added to the uncertainty. major tech companies like google,\n",
       "amazon, and microsoft have responded by cutting jobs and scaling back investments. meanwhile, emerging markets such as india and brazil are showing resilience. \n",
       "artificial intelligence (ai) is becoming a key area of innovation and competition among nations."
      ],
      "text/plain": [
       "<IPython.core.display.Markdown object>"
      ]
     },
     "metadata": {},
     "output_type": "display_data"
    }
   ],
   "source": [
    "# Let's start preprocessing\n",
    "\n",
    "text = text.lower() # lower the case\n",
    "display(Markdown(text))"
   ]
  },
  {
   "cell_type": "markdown",
   "metadata": {},
   "source": [
    "***Bag of words***"
   ]
  },
  {
   "cell_type": "code",
   "execution_count": 9,
   "metadata": {},
   "outputs": [],
   "source": [
    "from sklearn.feature_extraction.text import CountVectorizer"
   ]
  },
  {
   "cell_type": "code",
   "execution_count": 8,
   "metadata": {},
   "outputs": [],
   "source": [
    "sentences = [\n",
    "    'This is for testing statement',\n",
    "    'I love playing cricket',\n",
    "    'I have played lot of matches'\n",
    "]"
   ]
  },
  {
   "cell_type": "code",
   "execution_count": 11,
   "metadata": {},
   "outputs": [],
   "source": [
    "vectorizer = CountVectorizer()\n",
    "x = vectorizer.fit_transform(sentences)"
   ]
  },
  {
   "cell_type": "code",
   "execution_count": 14,
   "metadata": {},
   "outputs": [
    {
     "name": "stdout",
     "output_type": "stream",
     "text": [
      "cricket: 0\n",
      "for: 1\n",
      "have: 2\n",
      "is: 3\n",
      "lot: 4\n",
      "love: 5\n",
      "matches: 6\n",
      "of: 7\n",
      "played: 8\n",
      "playing: 9\n",
      "statement: 10\n",
      "testing: 11\n",
      "this: 12\n"
     ]
    }
   ],
   "source": [
    "vectorizer.vocabulary_\n",
    "\n",
    "sorted_vocab_by_index = sorted(vectorizer.vocabulary_.items(), key=lambda item: item[1])\n",
    "for word, index in sorted_vocab_by_index:\n",
    "    print(f\"{word}: {index}\")"
   ]
  },
  {
   "cell_type": "code",
   "execution_count": 12,
   "metadata": {},
   "outputs": [
    {
     "data": {
      "text/plain": [
       "array([[0, 1, 0, 1, 0, 0, 0, 0, 0, 0, 1, 1, 1],\n",
       "       [1, 0, 0, 0, 0, 1, 0, 0, 0, 1, 0, 0, 0],\n",
       "       [0, 0, 1, 0, 1, 0, 1, 1, 1, 0, 0, 0, 0]])"
      ]
     },
     "execution_count": 12,
     "metadata": {},
     "output_type": "execute_result"
    }
   ],
   "source": [
    "x.toarray()"
   ]
  },
  {
   "cell_type": "markdown",
   "metadata": {},
   "source": [
    "***TF-IDF***"
   ]
  },
  {
   "cell_type": "code",
   "execution_count": 15,
   "metadata": {},
   "outputs": [
    {
     "name": "stdout",
     "output_type": "stream",
     "text": [
      "cricket: 0\n",
      "for: 1\n",
      "have: 2\n",
      "is: 3\n",
      "lot: 4\n",
      "love: 5\n",
      "matches: 6\n",
      "of: 7\n",
      "played: 8\n",
      "playing: 9\n",
      "statement: 10\n",
      "testing: 11\n",
      "this: 12\n"
     ]
    }
   ],
   "source": [
    "from sklearn.feature_extraction.text import TfidfVectorizer\n",
    "\n",
    "vectorizer = TfidfVectorizer()\n",
    "x = vectorizer.fit_transform(sentences)\n",
    "\n",
    "sorted_vocab_by_index = sorted(vectorizer.vocabulary_.items(), key=lambda item: item[1])\n",
    "for word, index in sorted_vocab_by_index:\n",
    "    print(f\"{word}: {index}\")"
   ]
  },
  {
   "cell_type": "code",
   "execution_count": 16,
   "metadata": {},
   "outputs": [
    {
     "data": {
      "text/plain": [
       "array([[0.        , 0.4472136 , 0.        , 0.4472136 , 0.        ,\n",
       "        0.        , 0.        , 0.        , 0.        , 0.        ,\n",
       "        0.4472136 , 0.4472136 , 0.4472136 ],\n",
       "       [0.57735027, 0.        , 0.        , 0.        , 0.        ,\n",
       "        0.57735027, 0.        , 0.        , 0.        , 0.57735027,\n",
       "        0.        , 0.        , 0.        ],\n",
       "       [0.        , 0.        , 0.4472136 , 0.        , 0.4472136 ,\n",
       "        0.        , 0.4472136 , 0.4472136 , 0.4472136 , 0.        ,\n",
       "        0.        , 0.        , 0.        ]])"
      ]
     },
     "execution_count": 16,
     "metadata": {},
     "output_type": "execute_result"
    }
   ],
   "source": [
    "x.toarray()"
   ]
  },
  {
   "cell_type": "code",
   "execution_count": null,
   "metadata": {},
   "outputs": [],
   "source": []
  }
 ],
 "metadata": {
  "kernelspec": {
   "display_name": "Python 3",
   "language": "python",
   "name": "python3"
  },
  "language_info": {
   "codemirror_mode": {
    "name": "ipython",
    "version": 3
   },
   "file_extension": ".py",
   "mimetype": "text/x-python",
   "name": "python",
   "nbconvert_exporter": "python",
   "pygments_lexer": "ipython3",
   "version": "3.9.6"
  }
 },
 "nbformat": 4,
 "nbformat_minor": 2
}
